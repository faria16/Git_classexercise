Hello Earth

{
  "nbformat": 4,
  "nbformat_minor": 0,
  "metadata": {
    "colab": {
      "provenance": [],
      "include_colab_link": true
    },
    "kernelspec": {
      "name": "python3",
      "display_name": "Python 3"
    }
  },
  "cells": [
    {
      "cell_type": "markdown",
      "metadata": {
        "id": "view-in-github",
        "colab_type": "text"
      },
      "source": [
        "<a href=\"https://colab.research.google.com/github/faria16/Git_classexercise/blob/main/18_Math_Module.ipynb\" target=\"_parent\"><img src=\"https://colab.research.google.com/assets/colab-badge.svg\" alt=\"Open In Colab\"/></a>"
      ]
    },
    {
      "cell_type": "markdown",
      "metadata": {
        "id": "H5DBfmFS94Bq"
      },
      "source": [
        "Python has a set of built-in math functions, including an extensive math module.\n",
        "It allows you to perform mathematical tasks on numbers."
      ]
    },
    {
      "cell_type": "code",
      "metadata": {
        "id": "-PKv9UuB91zf"
      },
      "source": [
        "import math"
      ],
      "execution_count": null,
      "outputs": []
    },
    {
      "cell_type": "code",
      "metadata": {
        "id": "Mn9tpp7n99yj",
        "colab": {
          "base_uri": "https://localhost:8080/"
        },
        "outputId": "1a2683e5-3d96-4580-e216-e9acb3401c27"
      },
      "source": [
        "x = min(15, 10, 25)   # Minimum No\n",
        "y = max(35, 10, 25)   # Maximum No\n",
        "\n",
        "print(x)\n",
        "print(y)"
      ],
      "execution_count": null,
      "outputs": [
        {
          "output_type": "stream",
          "name": "stdout",
          "text": [
            "10\n",
            "35\n"
          ]
        }
      ]
    },
    {
      "cell_type": "code",
      "metadata": {
        "id": "2KzGQ8Mh-B0T",
        "colab": {
          "base_uri": "https://localhost:8080/"
        },
        "outputId": "e688b061-2632-469d-a442-19223a7738a4"
      },
      "source": [
        "x = abs(-7.25) # The abs() function returns the absolute (positive) value of the specified number\n",
        "\n",
        "print(x)"
      ],
      "execution_count": null,
      "outputs": [
        {
          "output_type": "stream",
          "name": "stdout",
          "text": [
            "7.25\n"
          ]
        }
      ]
    },
    {
      "cell_type": "code",
      "metadata": {
        "id": "x-ZUKu-h-Ndi",
        "colab": {
          "base_uri": "https://localhost:8080/"
        },
        "outputId": "b4bbf258-5392-4f49-9268-caf8f633cde9"
      },
      "source": [
        "x = pow(4, 3)  # Return the value of 4 to the power of 3 (same as 4 * 4 * 4)\n",
        "\n",
        "print(x)"
      ],
      "execution_count": null,
      "outputs": [
        {
          "output_type": "stream",
          "name": "stdout",
          "text": [
            "64\n"
          ]
        }
      ]
    },
    {
      "cell_type": "code",
      "metadata": {
        "id": "zjxuh4CR-WqZ",
        "colab": {
          "base_uri": "https://localhost:8080/"
        },
        "outputId": "73a0744e-c2f3-4a94-87d4-c738918fdc2f"
      },
      "source": [
        "x = math.sqrt(64) # The math.sqrt() method for example, returns the square root of a number\n",
        "\n",
        "print(x)"
      ],
      "execution_count": null,
      "outputs": [
        {
          "output_type": "stream",
          "name": "stdout",
          "text": [
            "8.0\n"
          ]
        }
      ]
    },
    {
      "cell_type": "code",
      "metadata": {
        "id": "Lo8FyHAl-dUf",
        "colab": {
          "base_uri": "https://localhost:8080/"
        },
        "outputId": "bf2d90c0-c68e-413d-ac43-1024222a2e09"
      },
      "source": [
        "import math\n",
        "\n",
        "x = math.ceil(1.4)   # The math.ceil() method rounds a number upwards to its nearest integer.\n",
        "y = math.floor(1.4)  # The math.floor() method rounds a number downwards to its nearest integer.\n",
        "\n",
        "print(x) # returns 2\n",
        "print(y) # returns 1"
      ],
      "execution_count": null,
      "outputs": [
        {
          "output_type": "stream",
          "name": "stdout",
          "text": [
            "2\n",
            "1\n"
          ]
        }
      ]
    },
    {
      "cell_type": "code",
      "metadata": {
        "id": "EkdULgmg-p7v",
        "colab": {
          "base_uri": "https://localhost:8080/"
        },
        "outputId": "151dd706-e14c-409e-9189-ed447a507eca"
      },
      "source": [
        "x = math.pi   # Value of pi  22/7\n",
        "\n",
        "print(x)"
      ],
      "execution_count": null,
      "outputs": [
        {
          "output_type": "stream",
          "name": "stdout",
          "text": [
            "3.141592653589793\n"
          ]
        }
      ]
    },
    {
      "cell_type": "code",
      "metadata": {
        "id": "8Clr0Iua-tRc",
        "colab": {
          "base_uri": "https://localhost:8080/"
        },
        "outputId": "be636a64-f672-4f9e-d9aa-852bd3304f1f"
      },
      "source": [
        "a = 4\n",
        "\n",
        "print(math.factorial(a))   # Factorial 4! = 4*3*2*1"
      ],
      "execution_count": null,
      "outputs": [
        {
          "output_type": "stream",
          "name": "stdout",
          "text": [
            "24\n"
          ]
        }
      ]
    },
    {
      "cell_type": "code",
      "metadata": {
        "id": "_YqAhzSr_A4M",
        "colab": {
          "base_uri": "https://localhost:8080/"
        },
        "outputId": "ff834c9a-af8a-49a3-b1eb-53156ff211e7"
      },
      "source": [
        "a = 20\n",
        "b = 7\n",
        "\n",
        "print(math.fmod(a,b))  # Returns the remainder of specified numbers when a number is divided by another number"
      ],
      "execution_count": null,
      "outputs": [
        {
          "output_type": "stream",
          "name": "stdout",
          "text": [
            "6.0\n"
          ]
        }
      ]
    },
    {
      "cell_type": "code",
      "metadata": {
        "id": "30aOzBFU_jck",
        "colab": {
          "base_uri": "https://localhost:8080/"
        },
        "outputId": "cd39819b-3214-4d8d-8fea-68f22a24bd18"
      },
      "source": [
        "x = 7\n",
        "\n",
        "print(math.isfinite(x))  # Checks whether x is a finite number"
      ],
      "execution_count": null,
      "outputs": [
        {
          "output_type": "stream",
          "name": "stdout",
          "text": [
            "True\n"
          ]
        }
      ]
    },
    {
      "cell_type": "code",
      "metadata": {
        "id": "LmO_JnHv_rc0",
        "colab": {
          "base_uri": "https://localhost:8080/"
        },
        "outputId": "4ef4cbb0-7041-4539-d692-c9fa00b024bc"
      },
      "source": [
        "x = 20\n",
        "\n",
        "print(math.log(x,10))  # Returns the natural logarithm of a number, or the logarithm of number to base\n",
        "\n",
        "# Here 10 is a base"
      ],
      "execution_count": null,
      "outputs": [
        {
          "output_type": "stream",
          "name": "stdout",
          "text": [
            "1.301029995663981\n"
          ]
        }
      ]
    },
    {
      "cell_type": "code",
      "metadata": {
        "id": "sK8K0H6H_03A",
        "colab": {
          "base_uri": "https://localhost:8080/"
        },
        "outputId": "d4832b9d-85ed-4531-fb26-c66c73b5c060"
      },
      "source": [
        "x = 35\n",
        "\n",
        "print(math.sin(x))   # Returns a sin value"
      ],
      "execution_count": null,
      "outputs": [
        {
          "output_type": "stream",
          "name": "stdout",
          "text": [
            "-0.428182669496151\n"
          ]
        }
      ]
    },
    {
      "cell_type": "code",
      "metadata": {
        "id": "tj4vs2-o_80X",
        "colab": {
          "base_uri": "https://localhost:8080/"
        },
        "outputId": "fa34fe4a-cee3-424d-be91-9d001478bd3f"
      },
      "source": [
        "x = 35\n",
        "\n",
        "print(math.cos(x))   # Returns a cos value"
      ],
      "execution_count": null,
      "outputs": [
        {
          "output_type": "stream",
          "name": "stdout",
          "text": [
            "-0.9036922050915067\n"
          ]
        }
      ]
    },
    {
      "cell_type": "code",
      "metadata": {
        "id": "kntg5bd4ACX-",
        "colab": {
          "base_uri": "https://localhost:8080/"
        },
        "outputId": "c0333929-4052-4f1b-e843-362ca09cf967"
      },
      "source": [
        "x = 35\n",
        "\n",
        "print(math.tan(x))   # Returns a tan value"
      ],
      "execution_count": null,
      "outputs": [
        {
          "output_type": "stream",
          "name": "stdout",
          "text": [
            "0.473814720414451\n"
          ]
        }
      ]
    },
    {
      "cell_type": "code",
      "metadata": {
        "id": "r_YnIla5AFCg",
        "colab": {
          "base_uri": "https://localhost:8080/"
        },
        "outputId": "057eb456-395f-46c9-f6d0-8e3e618c05ca"
      },
      "source": [
        "# Convert degrees values into radians\n",
        "print(math.radians(180))"
      ],
      "execution_count": null,
      "outputs": [
        {
          "output_type": "stream",
          "name": "stdout",
          "text": [
            "3.141592653589793\n"
          ]
        }
      ]
    },
    {
      "cell_type": "code",
      "metadata": {
        "id": "cMSBDht0ANRc",
        "colab": {
          "base_uri": "https://localhost:8080/"
        },
        "outputId": "ebc2d034-3fb6-416e-b6e6-ed80ffc6d7ea"
      },
      "source": [
        "x = 25\n",
        "\n",
        "print(math.isnan(x))   # Checks whether x is NaN (not a number)"
      ],
      "execution_count": null,
      "outputs": [
        {
          "output_type": "stream",
          "name": "stdout",
          "text": [
            "False\n"
          ]
        }
      ]
    },
    {
      "cell_type": "code",
      "metadata": {
        "id": "cXUfqMg-AVXr",
        "colab": {
          "base_uri": "https://localhost:8080/"
        },
        "outputId": "c7496ef6-fca1-471d-eaae-bad4d7cecd70"
      },
      "source": [
        "x = 90\n",
        "\n",
        "print(math.lgamma(x))   #  \tReturns the log gamma value of x"
      ],
      "execution_count": null,
      "outputs": [
        {
          "output_type": "stream",
          "name": "stdout",
          "text": [
            "313.65282994987905\n"
          ]
        }
      ]
    },
    {
      "cell_type": "code",
      "metadata": {
        "id": "lkkvyNgdApOR",
        "colab": {
          "base_uri": "https://localhost:8080/"
        },
        "outputId": "ecba9cc2-bf4e-4065-99a1-aee2ed76abef"
      },
      "source": [
        "print(math.e)  # Returns Euler's number   # Constant Value"
      ],
      "execution_count": null,
      "outputs": [
        {
          "output_type": "stream",
          "name": "stdout",
          "text": [
            "2.718281828459045\n"
          ]
        }
      ]
    },
    {
      "cell_type": "code",
      "metadata": {
        "id": "PZ4bzIWCAv_x",
        "colab": {
          "base_uri": "https://localhost:8080/"
        },
        "outputId": "debabcc7-c0b0-4ab0-c175-446efe5592bf"
      },
      "source": [
        "print(math.tau)    # Returns tau"
      ],
      "execution_count": null,
      "outputs": [
        {
          "output_type": "stream",
          "name": "stdout",
          "text": [
            "6.283185307179586\n"
          ]
        }
      ]
    },
    {
      "cell_type": "code",
      "metadata": {
        "id": "LPkt7L0sA2jZ",
        "colab": {
          "base_uri": "https://localhost:8080/"
        },
        "outputId": "ec72f946-fe83-400c-9841-f98985fffc90"
      },
      "source": [
        "x = 180\n",
        "\n",
        "print(math.sinh(x))  # Returns the hyperbolic sine of x"
      ],
      "execution_count": null,
      "outputs": [
        {
          "output_type": "stream",
          "name": "stdout",
          "text": [
            "7.446921003909191e+77\n"
          ]
        }
      ]
    },
    {
      "cell_type": "code",
      "metadata": {
        "id": "WCIyEWdSBEsD",
        "colab": {
          "base_uri": "https://localhost:8080/"
        },
        "outputId": "7de135a5-19ca-42a8-d24a-bab3decdb55b"
      },
      "source": [
        "x = 180\n",
        "\n",
        "print(math.tanh(x))  # Returns the hyperbolic tan of x"
      ],
      "execution_count": null,
      "outputs": [
        {
          "output_type": "stream",
          "name": "stdout",
          "text": [
            "1.0\n"
          ]
        }
      ]
    },
    {
      "cell_type": "code",
      "metadata": {
        "id": "DyVcwM54BJ0y",
        "colab": {
          "base_uri": "https://localhost:8080/"
        },
        "outputId": "e974e60b-b45f-4fe1-e51f-4528c6892434"
      },
      "source": [
        "print(math.gcd(26, 12))  # Returns the highest number that can divide two numbers"
      ],
      "execution_count": null,
      "outputs": [
        {
          "output_type": "stream",
          "name": "stdout",
          "text": [
            "2\n"
          ]
        }
      ]
    }
  ]
}